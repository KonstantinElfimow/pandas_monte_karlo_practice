{
  "nbformat": 4,
  "nbformat_minor": 0,
  "metadata": {
    "colab": {
      "provenance": [],
      "authorship_tag": "ABX9TyPP9r51D7bYYJIi1F55oCLp"
    },
    "kernelspec": {
      "name": "python3",
      "display_name": "Python 3"
    },
    "language_info": {
      "name": "python"
    }
  },
  "cells": [
    {
      "cell_type": "markdown",
      "source": [
        "# Монте-Карло: практика"
      ],
      "metadata": {
        "id": "Hhak7Hb5nIA0"
      }
    },
    {
      "cell_type": "code",
      "execution_count": 2,
      "metadata": {
        "id": "9AhcolGGjpRp"
      },
      "outputs": [],
      "source": [
        "import pandas as pd\n",
        "import numpy as np"
      ]
    },
    {
      "cell_type": "code",
      "source": [
        "dice = pd.Series([1, 2, 3, 4, 5, 6])"
      ],
      "metadata": {
        "id": "k8F0RhhrlQDG"
      },
      "execution_count": 3,
      "outputs": []
    },
    {
      "cell_type": "code",
      "source": [
        "dice.sample(1).values[0]"
      ],
      "metadata": {
        "colab": {
          "base_uri": "https://localhost:8080/"
        },
        "id": "2-UtqObSl5Vf",
        "outputId": "a738f184-6f66-4eda-9d95-71b84a8cce8e"
      },
      "execution_count": 13,
      "outputs": [
        {
          "output_type": "execute_result",
          "data": {
            "text/plain": [
              "6"
            ]
          },
          "metadata": {},
          "execution_count": 13
        }
      ]
    },
    {
      "cell_type": "code",
      "source": [
        "rolls = [dice.sample(1).values[0] for _ in range(100000)]"
      ],
      "metadata": {
        "id": "fhpTfE8Zl6nz"
      },
      "execution_count": 19,
      "outputs": []
    },
    {
      "cell_type": "code",
      "source": [
        "rolls[:10]"
      ],
      "metadata": {
        "colab": {
          "base_uri": "https://localhost:8080/"
        },
        "id": "KQqgE49JmFYS",
        "outputId": "8f318ab9-e2b3-43e4-cb2b-78881e5a7195"
      },
      "execution_count": 20,
      "outputs": [
        {
          "output_type": "execute_result",
          "data": {
            "text/plain": [
              "[2, 2, 4, 1, 5, 1, 6, 6, 6, 3]"
            ]
          },
          "metadata": {},
          "execution_count": 20
        }
      ]
    },
    {
      "cell_type": "code",
      "source": [
        "pd.Series(rolls).value_counts(normalize=True)"
      ],
      "metadata": {
        "colab": {
          "base_uri": "https://localhost:8080/"
        },
        "id": "TwMKnfXpmHir",
        "outputId": "4837d73c-00a9-4caa-a809-fc86d6f1b4e6"
      },
      "execution_count": 21,
      "outputs": [
        {
          "output_type": "execute_result",
          "data": {
            "text/plain": [
              "5    0.17057\n",
              "2    0.16693\n",
              "4    0.16656\n",
              "6    0.16545\n",
              "3    0.16544\n",
              "1    0.16505\n",
              "dtype: float64"
            ]
          },
          "metadata": {},
          "execution_count": 21
        }
      ]
    },
    {
      "cell_type": "code",
      "source": [
        "dice.value_counts(normalize=True)"
      ],
      "metadata": {
        "colab": {
          "base_uri": "https://localhost:8080/"
        },
        "id": "kLmatR89mUCF",
        "outputId": "0f26dc64-e3fe-4eed-a532-4ca652577c2f"
      },
      "execution_count": 22,
      "outputs": [
        {
          "output_type": "execute_result",
          "data": {
            "text/plain": [
              "1    0.166667\n",
              "2    0.166667\n",
              "3    0.166667\n",
              "4    0.166667\n",
              "5    0.166667\n",
              "6    0.166667\n",
              "dtype: float64"
            ]
          },
          "metadata": {},
          "execution_count": 22
        }
      ]
    },
    {
      "cell_type": "markdown",
      "source": [
        "# *Парадокс дней рождений (никогда не равно 100%)*"
      ],
      "metadata": {
        "id": "lq7d_vt8m1sg"
      }
    },
    {
      "cell_type": "markdown",
      "source": [
        "Определить вероятность того, что в группе, состоящей из 23 человек, у двух людей\n",
        "будет совпадение дней рождений (число и месяц)"
      ],
      "metadata": {
        "id": "vf-S8Hx-nGMK"
      }
    },
    {
      "cell_type": "code",
      "source": [
        "bd = pd.Series(range(365))"
      ],
      "metadata": {
        "id": "lDQYNVnknqMV"
      },
      "execution_count": 23,
      "outputs": []
    },
    {
      "cell_type": "code",
      "source": [
        "bd"
      ],
      "metadata": {
        "colab": {
          "base_uri": "https://localhost:8080/"
        },
        "id": "b_HJ-OryoFZC",
        "outputId": "72ac46b6-ba74-49f8-9cbf-224f836b52ea"
      },
      "execution_count": 24,
      "outputs": [
        {
          "output_type": "execute_result",
          "data": {
            "text/plain": [
              "0        0\n",
              "1        1\n",
              "2        2\n",
              "3        3\n",
              "4        4\n",
              "      ... \n",
              "360    360\n",
              "361    361\n",
              "362    362\n",
              "363    363\n",
              "364    364\n",
              "Length: 365, dtype: int64"
            ]
          },
          "metadata": {},
          "execution_count": 24
        }
      ]
    },
    {
      "cell_type": "code",
      "source": [
        "t = bd.sample(23, replace=True)"
      ],
      "metadata": {
        "id": "adJ2mgGyoGvV"
      },
      "execution_count": 26,
      "outputs": []
    },
    {
      "cell_type": "code",
      "source": [
        "t.duplicated()"
      ],
      "metadata": {
        "colab": {
          "base_uri": "https://localhost:8080/"
        },
        "id": "kE2HmHaKoXMK",
        "outputId": "a39a7755-50e2-4ce9-92b6-e06e3dfe2a94"
      },
      "execution_count": 27,
      "outputs": [
        {
          "output_type": "execute_result",
          "data": {
            "text/plain": [
              "133    False\n",
              "212    False\n",
              "53     False\n",
              "217    False\n",
              "198    False\n",
              "316    False\n",
              "11     False\n",
              "0      False\n",
              "109    False\n",
              "21     False\n",
              "173    False\n",
              "123    False\n",
              "125    False\n",
              "149    False\n",
              "285    False\n",
              "134    False\n",
              "139    False\n",
              "149     True\n",
              "262    False\n",
              "132    False\n",
              "226    False\n",
              "29     False\n",
              "23     False\n",
              "dtype: bool"
            ]
          },
          "metadata": {},
          "execution_count": 27
        }
      ]
    },
    {
      "cell_type": "code",
      "source": [
        "t.duplicated().max()"
      ],
      "metadata": {
        "colab": {
          "base_uri": "https://localhost:8080/"
        },
        "id": "i7QGApZyohg3",
        "outputId": "88e04b58-7ac1-4a6a-acf9-b0e326fb5e12"
      },
      "execution_count": 28,
      "outputs": [
        {
          "output_type": "execute_result",
          "data": {
            "text/plain": [
              "True"
            ]
          },
          "metadata": {},
          "execution_count": 28
        }
      ]
    },
    {
      "cell_type": "code",
      "source": [
        "rooms = [bd.sample(23, replace=True).duplicated().max() for _ in range(10000)]"
      ],
      "metadata": {
        "id": "VD-AOyzJo2t1"
      },
      "execution_count": 42,
      "outputs": []
    },
    {
      "cell_type": "code",
      "source": [
        "rooms[:10]"
      ],
      "metadata": {
        "colab": {
          "base_uri": "https://localhost:8080/"
        },
        "id": "54oFidX9pEyx",
        "outputId": "ab6e1add-4f24-4d71-a84b-e1f8ea4ff1e8"
      },
      "execution_count": 43,
      "outputs": [
        {
          "output_type": "execute_result",
          "data": {
            "text/plain": [
              "[True, True, True, True, True, True, False, True, True, True]"
            ]
          },
          "metadata": {},
          "execution_count": 43
        }
      ]
    },
    {
      "cell_type": "code",
      "source": [
        "np.mean(rooms)"
      ],
      "metadata": {
        "colab": {
          "base_uri": "https://localhost:8080/"
        },
        "id": "NtXOVOMCpM2a",
        "outputId": "e92cf79f-8b24-41dc-cb50-c63710f89716"
      },
      "execution_count": 44,
      "outputs": [
        {
          "output_type": "execute_result",
          "data": {
            "text/plain": [
              "0.5063"
            ]
          },
          "metadata": {},
          "execution_count": 44
        }
      ]
    },
    {
      "cell_type": "markdown",
      "source": [
        "Экзамен проходит по следующей схеме: если некоторый билет уже был вытянут, то после ответа экзаменатор откладывает его в сторону. Студент выучичил 20 вопросов из 30. Когда ему выгоднее идти, первым или вторым, что вероятность вытянуть выученный билет была больше?"
      ],
      "metadata": {
        "id": "Djq1GhiapR5q"
      }
    },
    {
      "cell_type": "code",
      "source": [
        "tickets = list(range(1, 31))"
      ],
      "metadata": {
        "id": "78S4RregqfyT"
      },
      "execution_count": 45,
      "outputs": []
    },
    {
      "cell_type": "code",
      "source": [
        "student = list(range(1, 21))"
      ],
      "metadata": {
        "id": "xoxdZ0SZro6M"
      },
      "execution_count": 46,
      "outputs": []
    },
    {
      "cell_type": "code",
      "source": [
        "from random import shuffle"
      ],
      "metadata": {
        "id": "OjcFH7RdrtJr"
      },
      "execution_count": 48,
      "outputs": []
    },
    {
      "cell_type": "code",
      "source": [
        "shuffle(tickets)"
      ],
      "metadata": {
        "id": "oTzrCJbMr5I-"
      },
      "execution_count": 49,
      "outputs": []
    },
    {
      "cell_type": "code",
      "source": [
        "n = 10000\n",
        "student = list(range(1, 21))\n",
        "tickets = list(range(1, 31))\n",
        "result = []\n",
        "for _ in range(n):\n",
        "  shuffle(tickets)\n",
        "  result.append(tickets[0] in student)\n",
        "  # result.append(tickets[1] in student)"
      ],
      "metadata": {
        "id": "CoKbEyzmsJRL"
      },
      "execution_count": 61,
      "outputs": []
    },
    {
      "cell_type": "code",
      "source": [
        "np.mean(result)"
      ],
      "metadata": {
        "colab": {
          "base_uri": "https://localhost:8080/"
        },
        "id": "-NVLp1x4sOsE",
        "outputId": "ead008ed-633d-461f-99fd-52f78e04ef62"
      },
      "execution_count": 62,
      "outputs": [
        {
          "output_type": "execute_result",
          "data": {
            "text/plain": [
              "0.663"
            ]
          },
          "metadata": {},
          "execution_count": 62
        }
      ]
    },
    {
      "cell_type": "code",
      "source": [
        "# Ответ: всегда вер. будет 2/3"
      ],
      "metadata": {
        "id": "fAoLTQA0tbCA"
      },
      "execution_count": 63,
      "outputs": []
    },
    {
      "cell_type": "markdown",
      "source": [
        "Ночью произошло ДТП с участием такси. В городе работают две компании такси - Синие и Зеленые. Зеленым принадлежат 85% такси, Синим - 15%. Свидетель аварии утверждает, что такси принадлежало Синим. Следственный эксперимент показал, что ночью свидетель верно определяет цвет такси в 80% случаев. Какова вероятность того, что такси действительно принадлежало Синим?"
      ],
      "metadata": {
        "id": "wk3wXgAovCNU"
      }
    },
    {
      "cell_type": "code",
      "source": [
        "np.random.binomial(1, 0.15)"
      ],
      "metadata": {
        "colab": {
          "base_uri": "https://localhost:8080/"
        },
        "id": "y-eXA5S3vqUp",
        "outputId": "ea259c60-c5bc-4de4-ea4d-58798b9f0412"
      },
      "execution_count": 64,
      "outputs": [
        {
          "output_type": "execute_result",
          "data": {
            "text/plain": [
              "0"
            ]
          },
          "metadata": {},
          "execution_count": 64
        }
      ]
    },
    {
      "cell_type": "code",
      "source": [
        "def witness(taxi):\n",
        "  if np.random.binomial(1, 0.8):\n",
        "    return taxi\n",
        "  return abs(taxi - 1)"
      ],
      "metadata": {
        "id": "YlsYedNbwJUA"
      },
      "execution_count": 74,
      "outputs": []
    },
    {
      "cell_type": "code",
      "source": [
        "witness(0)"
      ],
      "metadata": {
        "colab": {
          "base_uri": "https://localhost:8080/"
        },
        "id": "KIC4jzF9wdkG",
        "outputId": "badb5473-70a1-4751-8292-1d2233eced45"
      },
      "execution_count": 75,
      "outputs": [
        {
          "output_type": "execute_result",
          "data": {
            "text/plain": [
              "1"
            ]
          },
          "metadata": {},
          "execution_count": 75
        }
      ]
    },
    {
      "cell_type": "code",
      "source": [
        "n = 100000\n",
        "result = []\n",
        "for _ in range(n):\n",
        "  taxi = np.random.binomial(1, 0.15)\n",
        "  witness_answer = witness(taxi)\n",
        "  result.append((taxi, witness_answer))"
      ],
      "metadata": {
        "id": "iTs1Hoa7wezJ"
      },
      "execution_count": 82,
      "outputs": []
    },
    {
      "cell_type": "code",
      "source": [
        "t = pd.DataFrame(result, columns=['taxi', 'witness_answer'])"
      ],
      "metadata": {
        "id": "143DbYq4wmdC"
      },
      "execution_count": 83,
      "outputs": []
    },
    {
      "cell_type": "code",
      "source": [
        "t"
      ],
      "metadata": {
        "colab": {
          "base_uri": "https://localhost:8080/",
          "height": 424
        },
        "id": "58WXnDhqw78C",
        "outputId": "e4c2fe47-00c4-48b2-bff7-ad5657cfb9ad"
      },
      "execution_count": 84,
      "outputs": [
        {
          "output_type": "execute_result",
          "data": {
            "text/plain": [
              "       taxi  witness_answer\n",
              "0         0               0\n",
              "1         0               0\n",
              "2         0               0\n",
              "3         0               0\n",
              "4         0               0\n",
              "...     ...             ...\n",
              "99995     1               1\n",
              "99996     0               0\n",
              "99997     0               0\n",
              "99998     0               1\n",
              "99999     1               1\n",
              "\n",
              "[100000 rows x 2 columns]"
            ],
            "text/html": [
              "\n",
              "  <div id=\"df-8dd384f1-d3e9-409b-bdce-e88b9b7e30a7\">\n",
              "    <div class=\"colab-df-container\">\n",
              "      <div>\n",
              "<style scoped>\n",
              "    .dataframe tbody tr th:only-of-type {\n",
              "        vertical-align: middle;\n",
              "    }\n",
              "\n",
              "    .dataframe tbody tr th {\n",
              "        vertical-align: top;\n",
              "    }\n",
              "\n",
              "    .dataframe thead th {\n",
              "        text-align: right;\n",
              "    }\n",
              "</style>\n",
              "<table border=\"1\" class=\"dataframe\">\n",
              "  <thead>\n",
              "    <tr style=\"text-align: right;\">\n",
              "      <th></th>\n",
              "      <th>taxi</th>\n",
              "      <th>witness_answer</th>\n",
              "    </tr>\n",
              "  </thead>\n",
              "  <tbody>\n",
              "    <tr>\n",
              "      <th>0</th>\n",
              "      <td>0</td>\n",
              "      <td>0</td>\n",
              "    </tr>\n",
              "    <tr>\n",
              "      <th>1</th>\n",
              "      <td>0</td>\n",
              "      <td>0</td>\n",
              "    </tr>\n",
              "    <tr>\n",
              "      <th>2</th>\n",
              "      <td>0</td>\n",
              "      <td>0</td>\n",
              "    </tr>\n",
              "    <tr>\n",
              "      <th>3</th>\n",
              "      <td>0</td>\n",
              "      <td>0</td>\n",
              "    </tr>\n",
              "    <tr>\n",
              "      <th>4</th>\n",
              "      <td>0</td>\n",
              "      <td>0</td>\n",
              "    </tr>\n",
              "    <tr>\n",
              "      <th>...</th>\n",
              "      <td>...</td>\n",
              "      <td>...</td>\n",
              "    </tr>\n",
              "    <tr>\n",
              "      <th>99995</th>\n",
              "      <td>1</td>\n",
              "      <td>1</td>\n",
              "    </tr>\n",
              "    <tr>\n",
              "      <th>99996</th>\n",
              "      <td>0</td>\n",
              "      <td>0</td>\n",
              "    </tr>\n",
              "    <tr>\n",
              "      <th>99997</th>\n",
              "      <td>0</td>\n",
              "      <td>0</td>\n",
              "    </tr>\n",
              "    <tr>\n",
              "      <th>99998</th>\n",
              "      <td>0</td>\n",
              "      <td>1</td>\n",
              "    </tr>\n",
              "    <tr>\n",
              "      <th>99999</th>\n",
              "      <td>1</td>\n",
              "      <td>1</td>\n",
              "    </tr>\n",
              "  </tbody>\n",
              "</table>\n",
              "<p>100000 rows × 2 columns</p>\n",
              "</div>\n",
              "      <button class=\"colab-df-convert\" onclick=\"convertToInteractive('df-8dd384f1-d3e9-409b-bdce-e88b9b7e30a7')\"\n",
              "              title=\"Convert this dataframe to an interactive table.\"\n",
              "              style=\"display:none;\">\n",
              "        \n",
              "  <svg xmlns=\"http://www.w3.org/2000/svg\" height=\"24px\"viewBox=\"0 0 24 24\"\n",
              "       width=\"24px\">\n",
              "    <path d=\"M0 0h24v24H0V0z\" fill=\"none\"/>\n",
              "    <path d=\"M18.56 5.44l.94 2.06.94-2.06 2.06-.94-2.06-.94-.94-2.06-.94 2.06-2.06.94zm-11 1L8.5 8.5l.94-2.06 2.06-.94-2.06-.94L8.5 2.5l-.94 2.06-2.06.94zm10 10l.94 2.06.94-2.06 2.06-.94-2.06-.94-.94-2.06-.94 2.06-2.06.94z\"/><path d=\"M17.41 7.96l-1.37-1.37c-.4-.4-.92-.59-1.43-.59-.52 0-1.04.2-1.43.59L10.3 9.45l-7.72 7.72c-.78.78-.78 2.05 0 2.83L4 21.41c.39.39.9.59 1.41.59.51 0 1.02-.2 1.41-.59l7.78-7.78 2.81-2.81c.8-.78.8-2.07 0-2.86zM5.41 20L4 18.59l7.72-7.72 1.47 1.35L5.41 20z\"/>\n",
              "  </svg>\n",
              "      </button>\n",
              "      \n",
              "  <style>\n",
              "    .colab-df-container {\n",
              "      display:flex;\n",
              "      flex-wrap:wrap;\n",
              "      gap: 12px;\n",
              "    }\n",
              "\n",
              "    .colab-df-convert {\n",
              "      background-color: #E8F0FE;\n",
              "      border: none;\n",
              "      border-radius: 50%;\n",
              "      cursor: pointer;\n",
              "      display: none;\n",
              "      fill: #1967D2;\n",
              "      height: 32px;\n",
              "      padding: 0 0 0 0;\n",
              "      width: 32px;\n",
              "    }\n",
              "\n",
              "    .colab-df-convert:hover {\n",
              "      background-color: #E2EBFA;\n",
              "      box-shadow: 0px 1px 2px rgba(60, 64, 67, 0.3), 0px 1px 3px 1px rgba(60, 64, 67, 0.15);\n",
              "      fill: #174EA6;\n",
              "    }\n",
              "\n",
              "    [theme=dark] .colab-df-convert {\n",
              "      background-color: #3B4455;\n",
              "      fill: #D2E3FC;\n",
              "    }\n",
              "\n",
              "    [theme=dark] .colab-df-convert:hover {\n",
              "      background-color: #434B5C;\n",
              "      box-shadow: 0px 1px 3px 1px rgba(0, 0, 0, 0.15);\n",
              "      filter: drop-shadow(0px 1px 2px rgba(0, 0, 0, 0.3));\n",
              "      fill: #FFFFFF;\n",
              "    }\n",
              "  </style>\n",
              "\n",
              "      <script>\n",
              "        const buttonEl =\n",
              "          document.querySelector('#df-8dd384f1-d3e9-409b-bdce-e88b9b7e30a7 button.colab-df-convert');\n",
              "        buttonEl.style.display =\n",
              "          google.colab.kernel.accessAllowed ? 'block' : 'none';\n",
              "\n",
              "        async function convertToInteractive(key) {\n",
              "          const element = document.querySelector('#df-8dd384f1-d3e9-409b-bdce-e88b9b7e30a7');\n",
              "          const dataTable =\n",
              "            await google.colab.kernel.invokeFunction('convertToInteractive',\n",
              "                                                     [key], {});\n",
              "          if (!dataTable) return;\n",
              "\n",
              "          const docLinkHtml = 'Like what you see? Visit the ' +\n",
              "            '<a target=\"_blank\" href=https://colab.research.google.com/notebooks/data_table.ipynb>data table notebook</a>'\n",
              "            + ' to learn more about interactive tables.';\n",
              "          element.innerHTML = '';\n",
              "          dataTable['output_type'] = 'display_data';\n",
              "          await google.colab.output.renderOutput(dataTable, element);\n",
              "          const docLink = document.createElement('div');\n",
              "          docLink.innerHTML = docLinkHtml;\n",
              "          element.appendChild(docLink);\n",
              "        }\n",
              "      </script>\n",
              "    </div>\n",
              "  </div>\n",
              "  "
            ]
          },
          "metadata": {},
          "execution_count": 84
        }
      ]
    },
    {
      "cell_type": "code",
      "source": [
        "t.groupby('witness_answer')['taxi'].mean()"
      ],
      "metadata": {
        "colab": {
          "base_uri": "https://localhost:8080/"
        },
        "id": "eRokdKnSxE1f",
        "outputId": "28f78dd6-e530-44e2-e564-3dff8bc71633"
      },
      "execution_count": 85,
      "outputs": [
        {
          "output_type": "execute_result",
          "data": {
            "text/plain": [
              "witness_answer\n",
              "0    0.042560\n",
              "1    0.414327\n",
              "Name: taxi, dtype: float64"
            ]
          },
          "metadata": {},
          "execution_count": 85
        }
      ]
    },
    {
      "cell_type": "code",
      "source": [
        " # Ответ: 41%"
      ],
      "metadata": {
        "id": "5mP2LRFNxPYJ"
      },
      "execution_count": 86,
      "outputs": []
    },
    {
      "cell_type": "markdown",
      "source": [
        "Русская рулетка. Есть револьвер с 2 вставленными подряд патронами. Первый крутит барабан, стреляет и остаётся жив. Твоя очередь: тебе предлагает покрутить барабан перед выстрелом. Согласишься или сразу выстрелишь и почему?"
      ],
      "metadata": {
        "id": "VP5hAYSdzY9H"
      }
    },
    {
      "cell_type": "code",
      "source": [
        "chamber = [1, 1, 0, 0, 0, 0]"
      ],
      "metadata": {
        "id": "Vb-qkShQzvmL"
      },
      "execution_count": 87,
      "outputs": []
    },
    {
      "cell_type": "code",
      "source": [
        "def one_turn(chamber):\n",
        "  chamber.insert(0, chamber.pop())\n",
        "  return chamber"
      ],
      "metadata": {
        "id": "lYcJ-fFW0M4k"
      },
      "execution_count": 89,
      "outputs": []
    },
    {
      "cell_type": "code",
      "source": [
        "def spin_chamber(chamber):\n",
        "  n = np.random.randint(0, 6)\n",
        "  for _ in range(n):\n",
        "    chamber = one_turn(chamber)\n",
        "  return chamber  "
      ],
      "metadata": {
        "id": "Sz0eBHwg2VU3"
      },
      "execution_count": 111,
      "outputs": []
    },
    {
      "cell_type": "code",
      "source": [
        "pd.Series([spin_chamber([1, 1, 0, 0, 0, 0]) for _ in range(10000)]).astype(str).value_counts(normalize=True)"
      ],
      "metadata": {
        "colab": {
          "base_uri": "https://localhost:8080/"
        },
        "id": "wMV3qfZF04yE",
        "outputId": "f6e40c3d-4016-4617-f6d5-a7ef2a5b5016"
      },
      "execution_count": 115,
      "outputs": [
        {
          "output_type": "execute_result",
          "data": {
            "text/plain": [
              "[0, 0, 0, 1, 1, 0]    0.1690\n",
              "[1, 0, 0, 0, 0, 1]    0.1688\n",
              "[0, 1, 1, 0, 0, 0]    0.1670\n",
              "[0, 0, 1, 1, 0, 0]    0.1669\n",
              "[0, 0, 0, 0, 1, 1]    0.1663\n",
              "[1, 1, 0, 0, 0, 0]    0.1620\n",
              "dtype: float64"
            ]
          },
          "metadata": {},
          "execution_count": 115
        }
      ]
    },
    {
      "cell_type": "code",
      "source": [
        "# заряжаем револьвер\n",
        "chamber = [1, 1, 0, 0, 0, 0]\n",
        "# первый игрок крутит барабан\n",
        "chamber = spin_chamber(chamber)\n",
        "# первый игрок стреляет\n",
        "chamber = one_turn(chamber)\n",
        "p1 = chamber[0]\n",
        "chamber[0] = 0\n",
        "# второй игрок вращает барабан -- нужно ли это действие?\n",
        "chamber = spin_chamber(chamber)\n",
        "# второй игрок стреляет\n",
        "chamber = one_turn(chamber)\n",
        "p2 = chamber[0]"
      ],
      "metadata": {
        "id": "qeS2J3Aw1GAL"
      },
      "execution_count": 118,
      "outputs": []
    },
    {
      "cell_type": "code",
      "source": [
        "p1"
      ],
      "metadata": {
        "colab": {
          "base_uri": "https://localhost:8080/"
        },
        "id": "mdvQwghl1for",
        "outputId": "821eb0c2-1b2f-464a-8b5c-e66e48441551"
      },
      "execution_count": 119,
      "outputs": [
        {
          "output_type": "execute_result",
          "data": {
            "text/plain": [
              "1"
            ]
          },
          "metadata": {},
          "execution_count": 119
        }
      ]
    },
    {
      "cell_type": "code",
      "source": [
        "p2"
      ],
      "metadata": {
        "colab": {
          "base_uri": "https://localhost:8080/"
        },
        "id": "HN-gG6CO5Now",
        "outputId": "72a6c639-496a-432c-d050-d52e989b52fc"
      },
      "execution_count": 120,
      "outputs": [
        {
          "output_type": "execute_result",
          "data": {
            "text/plain": [
              "0"
            ]
          },
          "metadata": {},
          "execution_count": 120
        }
      ]
    },
    {
      "cell_type": "code",
      "source": [
        "n = 10000\n",
        "result = []\n",
        "\n",
        "for _ in range(n):\n",
        "  # заряжаем револьвер\n",
        "  chamber = [1, 1, 0, 0, 0, 0]\n",
        "  # первый игрок крутит барабан\n",
        "  chamber = spin_chamber(chamber)\n",
        "  # первый игрок стреляет\n",
        "  chamber = one_turn(chamber)\n",
        "  p1 = chamber[0]\n",
        "  chamber[0] = 0\n",
        "  # # второй игрок вращает барабан -- нужно ли это действие?\n",
        "  # chamber = spin_chamber(chamber)\n",
        "  # второй игрок стреляет\n",
        "  chamber = one_turn(chamber)\n",
        "  p2 = chamber[0]\n",
        "\n",
        "  result.append((p1, p2))"
      ],
      "metadata": {
        "id": "YWO27pYj5OCN"
      },
      "execution_count": 127,
      "outputs": []
    },
    {
      "cell_type": "code",
      "source": [
        "t = pd.DataFrame(result, columns=['p1', 'p2'])"
      ],
      "metadata": {
        "id": "kFCIo2d35aie"
      },
      "execution_count": 128,
      "outputs": []
    },
    {
      "cell_type": "code",
      "source": [
        "t.groupby('p1')['p2'].agg(['count', 'mean']) # шансы умереть"
      ],
      "metadata": {
        "colab": {
          "base_uri": "https://localhost:8080/",
          "height": 143
        },
        "id": "LBfEQhXO5daW",
        "outputId": "ad9a68c8-ff0b-47d0-e9a5-d7bd32f6ce33"
      },
      "execution_count": 129,
      "outputs": [
        {
          "output_type": "execute_result",
          "data": {
            "text/plain": [
              "    count     mean\n",
              "p1                \n",
              "0    6579  0.25399\n",
              "1    3421  0.48670"
            ],
            "text/html": [
              "\n",
              "  <div id=\"df-05594ec0-18f2-4a85-b906-cbf359ee3f0f\">\n",
              "    <div class=\"colab-df-container\">\n",
              "      <div>\n",
              "<style scoped>\n",
              "    .dataframe tbody tr th:only-of-type {\n",
              "        vertical-align: middle;\n",
              "    }\n",
              "\n",
              "    .dataframe tbody tr th {\n",
              "        vertical-align: top;\n",
              "    }\n",
              "\n",
              "    .dataframe thead th {\n",
              "        text-align: right;\n",
              "    }\n",
              "</style>\n",
              "<table border=\"1\" class=\"dataframe\">\n",
              "  <thead>\n",
              "    <tr style=\"text-align: right;\">\n",
              "      <th></th>\n",
              "      <th>count</th>\n",
              "      <th>mean</th>\n",
              "    </tr>\n",
              "    <tr>\n",
              "      <th>p1</th>\n",
              "      <th></th>\n",
              "      <th></th>\n",
              "    </tr>\n",
              "  </thead>\n",
              "  <tbody>\n",
              "    <tr>\n",
              "      <th>0</th>\n",
              "      <td>6579</td>\n",
              "      <td>0.25399</td>\n",
              "    </tr>\n",
              "    <tr>\n",
              "      <th>1</th>\n",
              "      <td>3421</td>\n",
              "      <td>0.48670</td>\n",
              "    </tr>\n",
              "  </tbody>\n",
              "</table>\n",
              "</div>\n",
              "      <button class=\"colab-df-convert\" onclick=\"convertToInteractive('df-05594ec0-18f2-4a85-b906-cbf359ee3f0f')\"\n",
              "              title=\"Convert this dataframe to an interactive table.\"\n",
              "              style=\"display:none;\">\n",
              "        \n",
              "  <svg xmlns=\"http://www.w3.org/2000/svg\" height=\"24px\"viewBox=\"0 0 24 24\"\n",
              "       width=\"24px\">\n",
              "    <path d=\"M0 0h24v24H0V0z\" fill=\"none\"/>\n",
              "    <path d=\"M18.56 5.44l.94 2.06.94-2.06 2.06-.94-2.06-.94-.94-2.06-.94 2.06-2.06.94zm-11 1L8.5 8.5l.94-2.06 2.06-.94-2.06-.94L8.5 2.5l-.94 2.06-2.06.94zm10 10l.94 2.06.94-2.06 2.06-.94-2.06-.94-.94-2.06-.94 2.06-2.06.94z\"/><path d=\"M17.41 7.96l-1.37-1.37c-.4-.4-.92-.59-1.43-.59-.52 0-1.04.2-1.43.59L10.3 9.45l-7.72 7.72c-.78.78-.78 2.05 0 2.83L4 21.41c.39.39.9.59 1.41.59.51 0 1.02-.2 1.41-.59l7.78-7.78 2.81-2.81c.8-.78.8-2.07 0-2.86zM5.41 20L4 18.59l7.72-7.72 1.47 1.35L5.41 20z\"/>\n",
              "  </svg>\n",
              "      </button>\n",
              "      \n",
              "  <style>\n",
              "    .colab-df-container {\n",
              "      display:flex;\n",
              "      flex-wrap:wrap;\n",
              "      gap: 12px;\n",
              "    }\n",
              "\n",
              "    .colab-df-convert {\n",
              "      background-color: #E8F0FE;\n",
              "      border: none;\n",
              "      border-radius: 50%;\n",
              "      cursor: pointer;\n",
              "      display: none;\n",
              "      fill: #1967D2;\n",
              "      height: 32px;\n",
              "      padding: 0 0 0 0;\n",
              "      width: 32px;\n",
              "    }\n",
              "\n",
              "    .colab-df-convert:hover {\n",
              "      background-color: #E2EBFA;\n",
              "      box-shadow: 0px 1px 2px rgba(60, 64, 67, 0.3), 0px 1px 3px 1px rgba(60, 64, 67, 0.15);\n",
              "      fill: #174EA6;\n",
              "    }\n",
              "\n",
              "    [theme=dark] .colab-df-convert {\n",
              "      background-color: #3B4455;\n",
              "      fill: #D2E3FC;\n",
              "    }\n",
              "\n",
              "    [theme=dark] .colab-df-convert:hover {\n",
              "      background-color: #434B5C;\n",
              "      box-shadow: 0px 1px 3px 1px rgba(0, 0, 0, 0.15);\n",
              "      filter: drop-shadow(0px 1px 2px rgba(0, 0, 0, 0.3));\n",
              "      fill: #FFFFFF;\n",
              "    }\n",
              "  </style>\n",
              "\n",
              "      <script>\n",
              "        const buttonEl =\n",
              "          document.querySelector('#df-05594ec0-18f2-4a85-b906-cbf359ee3f0f button.colab-df-convert');\n",
              "        buttonEl.style.display =\n",
              "          google.colab.kernel.accessAllowed ? 'block' : 'none';\n",
              "\n",
              "        async function convertToInteractive(key) {\n",
              "          const element = document.querySelector('#df-05594ec0-18f2-4a85-b906-cbf359ee3f0f');\n",
              "          const dataTable =\n",
              "            await google.colab.kernel.invokeFunction('convertToInteractive',\n",
              "                                                     [key], {});\n",
              "          if (!dataTable) return;\n",
              "\n",
              "          const docLinkHtml = 'Like what you see? Visit the ' +\n",
              "            '<a target=\"_blank\" href=https://colab.research.google.com/notebooks/data_table.ipynb>data table notebook</a>'\n",
              "            + ' to learn more about interactive tables.';\n",
              "          element.innerHTML = '';\n",
              "          dataTable['output_type'] = 'display_data';\n",
              "          await google.colab.output.renderOutput(dataTable, element);\n",
              "          const docLink = document.createElement('div');\n",
              "          docLink.innerHTML = docLinkHtml;\n",
              "          element.appendChild(docLink);\n",
              "        }\n",
              "      </script>\n",
              "    </div>\n",
              "  </div>\n",
              "  "
            ]
          },
          "metadata": {},
          "execution_count": 129
        }
      ]
    },
    {
      "cell_type": "code",
      "source": [
        "# Ответ: выгоднее не вращать барабан"
      ],
      "metadata": {
        "id": "dO5vNDix5rZ3"
      },
      "execution_count": 126,
      "outputs": []
    }
  ]
}